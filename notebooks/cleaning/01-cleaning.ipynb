{
 "cells": [
  {
   "cell_type": "code",
   "metadata": {
    "ExecuteTime": {
     "end_time": "2024-10-01T16:59:39.578659Z",
     "start_time": "2024-10-01T16:59:39.565950Z"
    }
   },
   "source": [
    "from pathlib import Path\n",
    "from loguru import logger\n",
    "import pandas as pd\n",
    "from datetime import datetime\n",
    "\n",
    "processed = Path(\"../../data/processed\")\n",
    "datafile = processed / \"whatsapp-20240930-201019.csv\"\n",
    "if not datafile.exists():\n",
    "    logger.warning(\"Datafile does not exist. First run src/preprocess.py, and check the timestamp!\")"
   ],
   "outputs": [],
   "execution_count": 1
  },
  {
   "cell_type": "markdown",
   "metadata": {},
   "source": [
    "Read in the file"
   ]
  },
  {
   "cell_type": "code",
   "metadata": {
    "ExecuteTime": {
     "end_time": "2024-09-30T18:11:33.243176Z",
     "start_time": "2024-09-30T18:11:33.158431Z"
    }
   },
   "source": [
    "df = pd.read_csv(datafile, parse_dates=[\"timestamp\"])\n",
    "df.head()"
   ],
   "outputs": [
    {
     "data": {
      "text/plain": [
       "            timestamp            author  \\\n",
       "0 2024-05-04 13:57:55      Latina Wifey   \n",
       "1 2024-05-04 13:57:57  Joppe Montezinos   \n",
       "2 2024-05-04 15:01:15  Joppe Montezinos   \n",
       "3 2024-05-04 15:01:29  Joppe Montezinos   \n",
       "4 2024-05-04 15:13:03  Joppe Montezinos   \n",
       "\n",
       "                                             message  \n",
       "0  Latina Wifey: ‎Messages and calls are end-to-e...  \n",
       "1                 Joppe Montezinos: In the train omw  \n",
       "2     Joppe Montezinos: I think we will be back at 6  \n",
       "3  Joppe Montezinos: Quinten was late cuz he had ...  \n",
       "4                 ‎ Joppe Montezinos: ‎audio omitted  "
      ],
      "text/html": [
       "<div>\n",
       "<style scoped>\n",
       "    .dataframe tbody tr th:only-of-type {\n",
       "        vertical-align: middle;\n",
       "    }\n",
       "\n",
       "    .dataframe tbody tr th {\n",
       "        vertical-align: top;\n",
       "    }\n",
       "\n",
       "    .dataframe thead th {\n",
       "        text-align: right;\n",
       "    }\n",
       "</style>\n",
       "<table border=\"1\" class=\"dataframe\">\n",
       "  <thead>\n",
       "    <tr style=\"text-align: right;\">\n",
       "      <th></th>\n",
       "      <th>timestamp</th>\n",
       "      <th>author</th>\n",
       "      <th>message</th>\n",
       "    </tr>\n",
       "  </thead>\n",
       "  <tbody>\n",
       "    <tr>\n",
       "      <th>0</th>\n",
       "      <td>2024-05-04 13:57:55</td>\n",
       "      <td>Latina Wifey</td>\n",
       "      <td>Latina Wifey: ‎Messages and calls are end-to-e...</td>\n",
       "    </tr>\n",
       "    <tr>\n",
       "      <th>1</th>\n",
       "      <td>2024-05-04 13:57:57</td>\n",
       "      <td>Joppe Montezinos</td>\n",
       "      <td>Joppe Montezinos: In the train omw</td>\n",
       "    </tr>\n",
       "    <tr>\n",
       "      <th>2</th>\n",
       "      <td>2024-05-04 15:01:15</td>\n",
       "      <td>Joppe Montezinos</td>\n",
       "      <td>Joppe Montezinos: I think we will be back at 6</td>\n",
       "    </tr>\n",
       "    <tr>\n",
       "      <th>3</th>\n",
       "      <td>2024-05-04 15:01:29</td>\n",
       "      <td>Joppe Montezinos</td>\n",
       "      <td>Joppe Montezinos: Quinten was late cuz he had ...</td>\n",
       "    </tr>\n",
       "    <tr>\n",
       "      <th>4</th>\n",
       "      <td>2024-05-04 15:13:03</td>\n",
       "      <td>Joppe Montezinos</td>\n",
       "      <td>‎ Joppe Montezinos: ‎audio omitted</td>\n",
       "    </tr>\n",
       "  </tbody>\n",
       "</table>\n",
       "</div>"
      ]
     },
     "execution_count": 3,
     "metadata": {},
     "output_type": "execute_result"
    }
   ],
   "execution_count": 3
  },
  {
   "cell_type": "markdown",
   "metadata": {},
   "source": [
    "Check the datatypes. Note the timestamp type!"
   ]
  },
  {
   "cell_type": "code",
   "metadata": {
    "ExecuteTime": {
     "end_time": "2024-09-30T18:11:35.346515Z",
     "start_time": "2024-09-30T18:11:35.343413Z"
    }
   },
   "source": [
    "df.dtypes"
   ],
   "outputs": [
    {
     "data": {
      "text/plain": [
       "timestamp    datetime64[ns]\n",
       "author               object\n",
       "message              object\n",
       "dtype: object"
      ]
     },
     "execution_count": 4,
     "metadata": {},
     "output_type": "execute_result"
    }
   ],
   "execution_count": 4
  },
  {
   "cell_type": "markdown",
   "metadata": {},
   "source": [
    "Sometimes, author names have a tilde in front of them, allong with some unicode. Let's clean that."
   ]
  },
  {
   "cell_type": "code",
   "metadata": {
    "ExecuteTime": {
     "end_time": "2024-09-30T18:11:39.761852Z",
     "start_time": "2024-09-30T18:11:39.737273Z"
    }
   },
   "source": [
    "import re\n",
    "clean_tilde = r\"^~\\u202f\"\n",
    "df[\"author\"] = df[\"author\"].apply(lambda x: re.sub(clean_tilde, \"\", x))"
   ],
   "outputs": [],
   "execution_count": 5
  },
  {
   "cell_type": "markdown",
   "metadata": {},
   "source": [
    "Let's check how many unique authors we have"
   ]
  },
  {
   "cell_type": "code",
   "metadata": {
    "ExecuteTime": {
     "end_time": "2024-09-30T18:11:41.535977Z",
     "start_time": "2024-09-30T18:11:41.529387Z"
    }
   },
   "source": [
    "len(df.author.unique())"
   ],
   "outputs": [
    {
     "data": {
      "text/plain": [
       "2"
      ]
     },
     "execution_count": 6,
     "metadata": {},
     "output_type": "execute_result"
    }
   ],
   "execution_count": 6
  },
  {
   "cell_type": "markdown",
   "metadata": {},
   "source": [
    "Let's make the authors anonymous"
   ]
  },
  {
   "cell_type": "code",
   "metadata": {
    "ExecuteTime": {
     "end_time": "2024-09-30T18:17:25.741689Z",
     "start_time": "2024-09-30T18:17:25.732455Z"
    }
   },
   "source": [
    "import sys\n",
    "sys.path.append(\"../../src/\")\n",
    "import json\n",
    "from wa_cleaner.humanhasher import humanize\n",
    "\n",
    "\n",
    "authors = df.author.unique()\n",
    "anon = {k:humanize(k) for k in authors}\n",
    "# we save a reference file so we can look up the original author names if we want to\n",
    "reference_file = processed / \"anon_reference.json\"\n",
    "\n",
    "with open(reference_file, \"w\") as f:\n",
    "    # invert the dictionary:\n",
    "    ref = {v:k for k,v in anon.items()}\n",
    "    # sort alphabetically:\n",
    "    ref_sorted = {k:ref[k] for k in sorted(ref.keys())}\n",
    "    # save as json:\n",
    "    json.dump(ref_sorted, f)\n",
    "\n",
    "assert len(anon) == len(authors), \"you lost some authors!\"\n"
   ],
   "outputs": [],
   "execution_count": 21
  },
  {
   "cell_type": "code",
   "metadata": {
    "ExecuteTime": {
     "end_time": "2024-09-30T18:17:28.460044Z",
     "start_time": "2024-09-30T18:17:28.451506Z"
    }
   },
   "source": [
    "df[\"anon_author\"] = df.author.map(anon)\n",
    "df.head()"
   ],
   "outputs": [
    {
     "data": {
      "text/plain": [
       "            timestamp            author  \\\n",
       "0 2024-05-04 13:57:55      Latina Wifey   \n",
       "1 2024-05-04 13:57:57  Joppe Montezinos   \n",
       "2 2024-05-04 15:01:15  Joppe Montezinos   \n",
       "3 2024-05-04 15:01:29  Joppe Montezinos   \n",
       "4 2024-05-04 15:13:03  Joppe Montezinos   \n",
       "\n",
       "                                             message           anon_author  \n",
       "0  Latina Wifey: ‎Messages and calls are end-to-e...      giggling-termite  \n",
       "1                 Joppe Montezinos: In the train omw  cheerful-nightingale  \n",
       "2     Joppe Montezinos: I think we will be back at 6  cheerful-nightingale  \n",
       "3  Joppe Montezinos: Quinten was late cuz he had ...  cheerful-nightingale  \n",
       "4                 ‎ Joppe Montezinos: ‎audio omitted  cheerful-nightingale  "
      ],
      "text/html": [
       "<div>\n",
       "<style scoped>\n",
       "    .dataframe tbody tr th:only-of-type {\n",
       "        vertical-align: middle;\n",
       "    }\n",
       "\n",
       "    .dataframe tbody tr th {\n",
       "        vertical-align: top;\n",
       "    }\n",
       "\n",
       "    .dataframe thead th {\n",
       "        text-align: right;\n",
       "    }\n",
       "</style>\n",
       "<table border=\"1\" class=\"dataframe\">\n",
       "  <thead>\n",
       "    <tr style=\"text-align: right;\">\n",
       "      <th></th>\n",
       "      <th>timestamp</th>\n",
       "      <th>author</th>\n",
       "      <th>message</th>\n",
       "      <th>anon_author</th>\n",
       "    </tr>\n",
       "  </thead>\n",
       "  <tbody>\n",
       "    <tr>\n",
       "      <th>0</th>\n",
       "      <td>2024-05-04 13:57:55</td>\n",
       "      <td>Latina Wifey</td>\n",
       "      <td>Latina Wifey: ‎Messages and calls are end-to-e...</td>\n",
       "      <td>giggling-termite</td>\n",
       "    </tr>\n",
       "    <tr>\n",
       "      <th>1</th>\n",
       "      <td>2024-05-04 13:57:57</td>\n",
       "      <td>Joppe Montezinos</td>\n",
       "      <td>Joppe Montezinos: In the train omw</td>\n",
       "      <td>cheerful-nightingale</td>\n",
       "    </tr>\n",
       "    <tr>\n",
       "      <th>2</th>\n",
       "      <td>2024-05-04 15:01:15</td>\n",
       "      <td>Joppe Montezinos</td>\n",
       "      <td>Joppe Montezinos: I think we will be back at 6</td>\n",
       "      <td>cheerful-nightingale</td>\n",
       "    </tr>\n",
       "    <tr>\n",
       "      <th>3</th>\n",
       "      <td>2024-05-04 15:01:29</td>\n",
       "      <td>Joppe Montezinos</td>\n",
       "      <td>Joppe Montezinos: Quinten was late cuz he had ...</td>\n",
       "      <td>cheerful-nightingale</td>\n",
       "    </tr>\n",
       "    <tr>\n",
       "      <th>4</th>\n",
       "      <td>2024-05-04 15:13:03</td>\n",
       "      <td>Joppe Montezinos</td>\n",
       "      <td>‎ Joppe Montezinos: ‎audio omitted</td>\n",
       "      <td>cheerful-nightingale</td>\n",
       "    </tr>\n",
       "  </tbody>\n",
       "</table>\n",
       "</div>"
      ]
     },
     "execution_count": 22,
     "metadata": {},
     "output_type": "execute_result"
    }
   ],
   "execution_count": 22
  },
  {
   "cell_type": "markdown",
   "metadata": {},
   "source": [
    "We can now drop the original author column"
   ]
  },
  {
   "cell_type": "code",
   "metadata": {
    "ExecuteTime": {
     "end_time": "2024-09-30T18:17:31.326746Z",
     "start_time": "2024-09-30T18:17:31.320626Z"
    }
   },
   "source": [
    "df.drop(columns=[\"author\"], inplace=True)"
   ],
   "outputs": [],
   "execution_count": 23
  },
  {
   "cell_type": "markdown",
   "metadata": {},
   "source": [
    "Check if it's gone"
   ]
  },
  {
   "cell_type": "code",
   "metadata": {
    "ExecuteTime": {
     "end_time": "2024-09-30T18:17:32.769498Z",
     "start_time": "2024-09-30T18:17:32.763096Z"
    }
   },
   "source": [
    "df.head()"
   ],
   "outputs": [
    {
     "data": {
      "text/plain": [
       "            timestamp                                            message  \\\n",
       "0 2024-05-04 13:57:55  Latina Wifey: ‎Messages and calls are end-to-e...   \n",
       "1 2024-05-04 13:57:57                 Joppe Montezinos: In the train omw   \n",
       "2 2024-05-04 15:01:15     Joppe Montezinos: I think we will be back at 6   \n",
       "3 2024-05-04 15:01:29  Joppe Montezinos: Quinten was late cuz he had ...   \n",
       "4 2024-05-04 15:13:03                 ‎ Joppe Montezinos: ‎audio omitted   \n",
       "\n",
       "            anon_author  \n",
       "0      giggling-termite  \n",
       "1  cheerful-nightingale  \n",
       "2  cheerful-nightingale  \n",
       "3  cheerful-nightingale  \n",
       "4  cheerful-nightingale  "
      ],
      "text/html": [
       "<div>\n",
       "<style scoped>\n",
       "    .dataframe tbody tr th:only-of-type {\n",
       "        vertical-align: middle;\n",
       "    }\n",
       "\n",
       "    .dataframe tbody tr th {\n",
       "        vertical-align: top;\n",
       "    }\n",
       "\n",
       "    .dataframe thead th {\n",
       "        text-align: right;\n",
       "    }\n",
       "</style>\n",
       "<table border=\"1\" class=\"dataframe\">\n",
       "  <thead>\n",
       "    <tr style=\"text-align: right;\">\n",
       "      <th></th>\n",
       "      <th>timestamp</th>\n",
       "      <th>message</th>\n",
       "      <th>anon_author</th>\n",
       "    </tr>\n",
       "  </thead>\n",
       "  <tbody>\n",
       "    <tr>\n",
       "      <th>0</th>\n",
       "      <td>2024-05-04 13:57:55</td>\n",
       "      <td>Latina Wifey: ‎Messages and calls are end-to-e...</td>\n",
       "      <td>giggling-termite</td>\n",
       "    </tr>\n",
       "    <tr>\n",
       "      <th>1</th>\n",
       "      <td>2024-05-04 13:57:57</td>\n",
       "      <td>Joppe Montezinos: In the train omw</td>\n",
       "      <td>cheerful-nightingale</td>\n",
       "    </tr>\n",
       "    <tr>\n",
       "      <th>2</th>\n",
       "      <td>2024-05-04 15:01:15</td>\n",
       "      <td>Joppe Montezinos: I think we will be back at 6</td>\n",
       "      <td>cheerful-nightingale</td>\n",
       "    </tr>\n",
       "    <tr>\n",
       "      <th>3</th>\n",
       "      <td>2024-05-04 15:01:29</td>\n",
       "      <td>Joppe Montezinos: Quinten was late cuz he had ...</td>\n",
       "      <td>cheerful-nightingale</td>\n",
       "    </tr>\n",
       "    <tr>\n",
       "      <th>4</th>\n",
       "      <td>2024-05-04 15:13:03</td>\n",
       "      <td>‎ Joppe Montezinos: ‎audio omitted</td>\n",
       "      <td>cheerful-nightingale</td>\n",
       "    </tr>\n",
       "  </tbody>\n",
       "</table>\n",
       "</div>"
      ]
     },
     "execution_count": 24,
     "metadata": {},
     "output_type": "execute_result"
    }
   ],
   "execution_count": 24
  },
  {
   "cell_type": "markdown",
   "metadata": {},
   "source": [
    "And let's rename the column"
   ]
  },
  {
   "cell_type": "code",
   "metadata": {
    "ExecuteTime": {
     "end_time": "2024-09-30T18:17:34.489525Z",
     "start_time": "2024-09-30T18:17:34.486942Z"
    }
   },
   "source": [
    "df.rename(columns={\"anon_author\":\"author\"}, inplace=True)"
   ],
   "outputs": [],
   "execution_count": 25
  },
  {
   "cell_type": "code",
   "metadata": {
    "ExecuteTime": {
     "end_time": "2024-09-30T18:17:35.765790Z",
     "start_time": "2024-09-30T18:17:35.760613Z"
    }
   },
   "source": [
    "df.head()"
   ],
   "outputs": [
    {
     "data": {
      "text/plain": [
       "            timestamp                                            message  \\\n",
       "0 2024-05-04 13:57:55  Latina Wifey: ‎Messages and calls are end-to-e...   \n",
       "1 2024-05-04 13:57:57                 Joppe Montezinos: In the train omw   \n",
       "2 2024-05-04 15:01:15     Joppe Montezinos: I think we will be back at 6   \n",
       "3 2024-05-04 15:01:29  Joppe Montezinos: Quinten was late cuz he had ...   \n",
       "4 2024-05-04 15:13:03                 ‎ Joppe Montezinos: ‎audio omitted   \n",
       "\n",
       "                 author  \n",
       "0      giggling-termite  \n",
       "1  cheerful-nightingale  \n",
       "2  cheerful-nightingale  \n",
       "3  cheerful-nightingale  \n",
       "4  cheerful-nightingale  "
      ],
      "text/html": [
       "<div>\n",
       "<style scoped>\n",
       "    .dataframe tbody tr th:only-of-type {\n",
       "        vertical-align: middle;\n",
       "    }\n",
       "\n",
       "    .dataframe tbody tr th {\n",
       "        vertical-align: top;\n",
       "    }\n",
       "\n",
       "    .dataframe thead th {\n",
       "        text-align: right;\n",
       "    }\n",
       "</style>\n",
       "<table border=\"1\" class=\"dataframe\">\n",
       "  <thead>\n",
       "    <tr style=\"text-align: right;\">\n",
       "      <th></th>\n",
       "      <th>timestamp</th>\n",
       "      <th>message</th>\n",
       "      <th>author</th>\n",
       "    </tr>\n",
       "  </thead>\n",
       "  <tbody>\n",
       "    <tr>\n",
       "      <th>0</th>\n",
       "      <td>2024-05-04 13:57:55</td>\n",
       "      <td>Latina Wifey: ‎Messages and calls are end-to-e...</td>\n",
       "      <td>giggling-termite</td>\n",
       "    </tr>\n",
       "    <tr>\n",
       "      <th>1</th>\n",
       "      <td>2024-05-04 13:57:57</td>\n",
       "      <td>Joppe Montezinos: In the train omw</td>\n",
       "      <td>cheerful-nightingale</td>\n",
       "    </tr>\n",
       "    <tr>\n",
       "      <th>2</th>\n",
       "      <td>2024-05-04 15:01:15</td>\n",
       "      <td>Joppe Montezinos: I think we will be back at 6</td>\n",
       "      <td>cheerful-nightingale</td>\n",
       "    </tr>\n",
       "    <tr>\n",
       "      <th>3</th>\n",
       "      <td>2024-05-04 15:01:29</td>\n",
       "      <td>Joppe Montezinos: Quinten was late cuz he had ...</td>\n",
       "      <td>cheerful-nightingale</td>\n",
       "    </tr>\n",
       "    <tr>\n",
       "      <th>4</th>\n",
       "      <td>2024-05-04 15:13:03</td>\n",
       "      <td>‎ Joppe Montezinos: ‎audio omitted</td>\n",
       "      <td>cheerful-nightingale</td>\n",
       "    </tr>\n",
       "  </tbody>\n",
       "</table>\n",
       "</div>"
      ]
     },
     "execution_count": 26,
     "metadata": {},
     "output_type": "execute_result"
    }
   ],
   "execution_count": 26
  },
  {
   "cell_type": "markdown",
   "metadata": {},
   "source": [
    "In my case, the first line is a header, saying messages are encrypted. Let's remove that. Your data might be different, so double check if you also want to remove the first line!"
   ]
  },
  {
   "cell_type": "code",
   "metadata": {
    "ExecuteTime": {
     "end_time": "2024-09-30T18:17:37.947491Z",
     "start_time": "2024-09-30T18:17:37.943123Z"
    }
   },
   "source": [
    "df = df.drop(index=[0])"
   ],
   "outputs": [],
   "execution_count": 27
  },
  {
   "cell_type": "markdown",
   "metadata": {},
   "source": [
    "let's check:"
   ]
  },
  {
   "cell_type": "code",
   "metadata": {
    "ExecuteTime": {
     "end_time": "2024-09-30T18:17:39.424133Z",
     "start_time": "2024-09-30T18:17:39.419423Z"
    }
   },
   "source": [
    "df.head()"
   ],
   "outputs": [
    {
     "data": {
      "text/plain": [
       "            timestamp                                            message  \\\n",
       "1 2024-05-04 13:57:57                 Joppe Montezinos: In the train omw   \n",
       "2 2024-05-04 15:01:15     Joppe Montezinos: I think we will be back at 6   \n",
       "3 2024-05-04 15:01:29  Joppe Montezinos: Quinten was late cuz he had ...   \n",
       "4 2024-05-04 15:13:03                 ‎ Joppe Montezinos: ‎audio omitted   \n",
       "5 2024-05-04 15:23:58                   ‎ Latina Wifey: ‎sticker omitted   \n",
       "\n",
       "                 author  \n",
       "1  cheerful-nightingale  \n",
       "2  cheerful-nightingale  \n",
       "3  cheerful-nightingale  \n",
       "4  cheerful-nightingale  \n",
       "5      giggling-termite  "
      ],
      "text/html": [
       "<div>\n",
       "<style scoped>\n",
       "    .dataframe tbody tr th:only-of-type {\n",
       "        vertical-align: middle;\n",
       "    }\n",
       "\n",
       "    .dataframe tbody tr th {\n",
       "        vertical-align: top;\n",
       "    }\n",
       "\n",
       "    .dataframe thead th {\n",
       "        text-align: right;\n",
       "    }\n",
       "</style>\n",
       "<table border=\"1\" class=\"dataframe\">\n",
       "  <thead>\n",
       "    <tr style=\"text-align: right;\">\n",
       "      <th></th>\n",
       "      <th>timestamp</th>\n",
       "      <th>message</th>\n",
       "      <th>author</th>\n",
       "    </tr>\n",
       "  </thead>\n",
       "  <tbody>\n",
       "    <tr>\n",
       "      <th>1</th>\n",
       "      <td>2024-05-04 13:57:57</td>\n",
       "      <td>Joppe Montezinos: In the train omw</td>\n",
       "      <td>cheerful-nightingale</td>\n",
       "    </tr>\n",
       "    <tr>\n",
       "      <th>2</th>\n",
       "      <td>2024-05-04 15:01:15</td>\n",
       "      <td>Joppe Montezinos: I think we will be back at 6</td>\n",
       "      <td>cheerful-nightingale</td>\n",
       "    </tr>\n",
       "    <tr>\n",
       "      <th>3</th>\n",
       "      <td>2024-05-04 15:01:29</td>\n",
       "      <td>Joppe Montezinos: Quinten was late cuz he had ...</td>\n",
       "      <td>cheerful-nightingale</td>\n",
       "    </tr>\n",
       "    <tr>\n",
       "      <th>4</th>\n",
       "      <td>2024-05-04 15:13:03</td>\n",
       "      <td>‎ Joppe Montezinos: ‎audio omitted</td>\n",
       "      <td>cheerful-nightingale</td>\n",
       "    </tr>\n",
       "    <tr>\n",
       "      <th>5</th>\n",
       "      <td>2024-05-04 15:23:58</td>\n",
       "      <td>‎ Latina Wifey: ‎sticker omitted</td>\n",
       "      <td>giggling-termite</td>\n",
       "    </tr>\n",
       "  </tbody>\n",
       "</table>\n",
       "</div>"
      ]
     },
     "execution_count": 28,
     "metadata": {},
     "output_type": "execute_result"
    }
   ],
   "execution_count": 28
  },
  {
   "cell_type": "markdown",
   "metadata": {},
   "source": [
    "Let's find emojis in the text and add that as a feature."
   ]
  },
  {
   "metadata": {
    "ExecuteTime": {
     "end_time": "2024-09-30T18:17:41.401624Z",
     "start_time": "2024-09-30T18:17:41.212799Z"
    }
   },
   "cell_type": "code",
   "source": [
    "import re\n",
    "import pandas as pd\n",
    "\n",
    "def clean_message(row):\n",
    "    # Extract the message\n",
    "    message = row['message']\n",
    "    \n",
    "    # Define the pattern to match name and colon at the start of the message\n",
    "    pattern = r'^([^:]+):\\s*'\n",
    "    \n",
    "    # Use re.sub to replace the pattern if it's at the start of the message\n",
    "    cleaned_message = re.sub(pattern, '', message)\n",
    "    \n",
    "    return cleaned_message\n",
    "\n",
    "\n",
    "# Apply the cleaning function to the 'message' column\n",
    "df['message'] = df.apply(clean_message, axis=1)\n",
    "\n",
    "# Save the result\n",
    "print(df.head())\n",
    "\n",
    "print(\"Cleaning completed\")"
   ],
   "outputs": [
    {
     "name": "stdout",
     "output_type": "stream",
     "text": [
      "            timestamp                                            message  \\\n",
      "1 2024-05-04 13:57:57                                   In the train omw   \n",
      "2 2024-05-04 15:01:15                       I think we will be back at 6   \n",
      "3 2024-05-04 15:01:29  Quinten was late cuz he had to stop by someone...   \n",
      "4 2024-05-04 15:13:03                                     ‎audio omitted   \n",
      "5 2024-05-04 15:23:58                                   ‎sticker omitted   \n",
      "\n",
      "                 author  \n",
      "1  cheerful-nightingale  \n",
      "2  cheerful-nightingale  \n",
      "3  cheerful-nightingale  \n",
      "4  cheerful-nightingale  \n",
      "5      giggling-termite  \n",
      "Cleaning completed\n"
     ]
    }
   ],
   "execution_count": 29
  },
  {
   "cell_type": "code",
   "metadata": {
    "ExecuteTime": {
     "end_time": "2024-09-30T18:17:43.630317Z",
     "start_time": "2024-09-30T18:17:43.597296Z"
    }
   },
   "source": [
    "import re\n",
    "\n",
    "emoji_pattern = re.compile(\"[\"\n",
    "                            u\"\\U0001F600-\\U0001F64F\"  # emoticons\n",
    "                            u\"\\U0001F300-\\U0001F5FF\"  # symbols & pictographs\n",
    "                            u\"\\U0001F680-\\U0001F6FF\"  # transport & map symbols\n",
    "                            u\"\\U0001F1E0-\\U0001F1FF\"  # flags (iOS)\n",
    "                            u\"\\U00002702-\\U000027B0\"  # Dingbats\n",
    "                            u\"\\U000024C2-\\U0001F251\"\n",
    "                            \"]+\", flags=re.UNICODE)\n",
    "\n",
    "def has_emoji(text):\n",
    "    return bool(emoji_pattern.search(text))\n",
    "\n",
    "df['has_emoji'] = df['message'].apply(has_emoji)"
   ],
   "outputs": [],
   "execution_count": 30
  },
  {
   "cell_type": "markdown",
   "metadata": {},
   "source": [
    "Let's create a timestamp for a new, unique, filename."
   ]
  },
  {
   "cell_type": "code",
   "metadata": {
    "ExecuteTime": {
     "end_time": "2024-09-30T18:17:45.780397Z",
     "start_time": "2024-09-30T18:17:45.777515Z"
    }
   },
   "source": [
    "now = datetime.now().strftime(\"%Y%m%d-%H%M%S\")\n",
    "output = processed / f\"whatsapp-{now}.csv\"\n",
    "output"
   ],
   "outputs": [
    {
     "data": {
      "text/plain": [
       "PosixPath('../../data/processed/whatsapp-20240930-201745.csv')"
      ]
     },
     "execution_count": 31,
     "metadata": {},
     "output_type": "execute_result"
    }
   ],
   "execution_count": 31
  },
  {
   "cell_type": "markdown",
   "metadata": {},
   "source": [
    "Let's save the file both as a csv and as a parquet file.\n",
    "Parquet has some advantages:\n",
    "- its about 100x faster to read and write\n",
    "- datatypes are preserved (eg the timestamp type). You will loose this in a csv file.\n",
    "- file size is much smaller\n",
    "\n",
    "The advantage of csv is that you can easily peak at the data in a text editor."
   ]
  },
  {
   "cell_type": "code",
   "metadata": {
    "ExecuteTime": {
     "end_time": "2024-09-30T18:20:45.781866Z",
     "start_time": "2024-09-30T18:20:45.776377Z"
    }
   },
   "source": [
    "df.to_csv(output, index=False)\n",
    "df.to_parquet(output.with_suffix(\".parq\"), index=False)"
   ],
   "outputs": [
    {
     "name": "stdout",
     "output_type": "stream",
     "text": [
      "            timestamp                                            message  \\\n",
      "1 2024-05-04 13:57:57                                   In the train omw   \n",
      "2 2024-05-04 15:01:15                       I think we will be back at 6   \n",
      "3 2024-05-04 15:01:29  Quinten was late cuz he had to stop by someone...   \n",
      "4 2024-05-04 15:13:03                                     ‎audio omitted   \n",
      "5 2024-05-04 15:23:58                                   ‎sticker omitted   \n",
      "\n",
      "                 author  has_emoji  \n",
      "1  cheerful-nightingale      False  \n",
      "2  cheerful-nightingale      False  \n",
      "3  cheerful-nightingale      False  \n",
      "4  cheerful-nightingale      False  \n",
      "5      giggling-termite      False  \n"
     ]
    }
   ],
   "execution_count": 34
  },
  {
   "cell_type": "markdown",
   "metadata": {},
   "source": [
    "Now, go to `config.toml` and change the name by \"current\" to the parquet file you just created.\n",
    "This makes it easier to use the same file everywhere, without the need to continuously retype the name if you change it."
   ]
  }
 ],
 "metadata": {
  "kernelspec": {
   "display_name": ".venv",
   "language": "python",
   "name": "python3"
  },
  "language_info": {
   "codemirror_mode": {
    "name": "ipython",
    "version": 3
   },
   "file_extension": ".py",
   "mimetype": "text/x-python",
   "name": "python",
   "nbconvert_exporter": "python",
   "pygments_lexer": "ipython3",
   "version": "3.11.9"
  }
 },
 "nbformat": 4,
 "nbformat_minor": 2
}
