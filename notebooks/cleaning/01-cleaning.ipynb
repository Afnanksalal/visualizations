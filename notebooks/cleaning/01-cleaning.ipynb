{
 "cells": [
  {
   "cell_type": "code",
   "metadata": {
    "ExecuteTime": {
     "end_time": "2024-10-14T20:22:45.274419Z",
     "start_time": "2024-10-14T20:22:45.271882Z"
    }
   },
   "source": [
    "from pathlib import Path\n",
    "from loguru import logger\n",
    "import pandas as pd\n",
    "from datetime import datetime\n",
    "\n",
    "processed = Path(\"../../data/processed\")\n",
    "datafile = processed / \"whatsapp-20241014-215524.csv\"\n",
    "if not datafile.exists():\n",
    "    logger.warning(\"Datafile does not exist. First run src/preprocess.py, and check the timestamp!\")"
   ],
   "outputs": [],
   "execution_count": 13
  },
  {
   "cell_type": "markdown",
   "metadata": {},
   "source": [
    "Read in the file"
   ]
  },
  {
   "cell_type": "code",
   "metadata": {
    "ExecuteTime": {
     "end_time": "2024-10-14T20:22:45.345107Z",
     "start_time": "2024-10-14T20:22:45.288067Z"
    }
   },
   "source": [
    "df = pd.read_csv(datafile, parse_dates=[\"timestamp\"])\n",
    "df.head(300)"
   ],
   "outputs": [
    {
     "data": {
      "text/plain": [
       "              timestamp            author  \\\n",
       "0   2024-05-04 13:57:55      Latina Wifey   \n",
       "1   2024-05-04 13:57:57  Joppe Montezinos   \n",
       "2   2024-05-04 15:01:15  Joppe Montezinos   \n",
       "3   2024-05-04 15:01:29  Joppe Montezinos   \n",
       "4   2024-05-04 15:13:03  Joppe Montezinos   \n",
       "..                  ...               ...   \n",
       "295 2024-05-06 10:10:51      Latina Wifey   \n",
       "296 2024-05-06 10:10:56      Latina Wifey   \n",
       "297 2024-05-06 10:11:02  Joppe Montezinos   \n",
       "298 2024-05-06 10:11:10      Latina Wifey   \n",
       "299 2024-05-06 10:11:40  Joppe Montezinos   \n",
       "\n",
       "                                               message  \n",
       "0    Latina Wifey: ‎Messages and calls are end-to-e...  \n",
       "1                   Joppe Montezinos: In the train omw  \n",
       "2       Joppe Montezinos: I think we will be back at 6  \n",
       "3    Joppe Montezinos: Quinten was late cuz he had ...  \n",
       "4                   ‎ Joppe Montezinos: ‎audio omitted  \n",
       "..                                                 ...  \n",
       "295                              Latina Wifey: perfect  \n",
       "296                Latina Wifey: it will be amazingggg  \n",
       "297                               Joppe Montezinos: ❤️  \n",
       "298                 Latina Wifey: I can cook for us ❤️  \n",
       "299                    Joppe Montezinos: hahahah yesss  \n",
       "\n",
       "[300 rows x 3 columns]"
      ],
      "text/html": [
       "<div>\n",
       "<style scoped>\n",
       "    .dataframe tbody tr th:only-of-type {\n",
       "        vertical-align: middle;\n",
       "    }\n",
       "\n",
       "    .dataframe tbody tr th {\n",
       "        vertical-align: top;\n",
       "    }\n",
       "\n",
       "    .dataframe thead th {\n",
       "        text-align: right;\n",
       "    }\n",
       "</style>\n",
       "<table border=\"1\" class=\"dataframe\">\n",
       "  <thead>\n",
       "    <tr style=\"text-align: right;\">\n",
       "      <th></th>\n",
       "      <th>timestamp</th>\n",
       "      <th>author</th>\n",
       "      <th>message</th>\n",
       "    </tr>\n",
       "  </thead>\n",
       "  <tbody>\n",
       "    <tr>\n",
       "      <th>0</th>\n",
       "      <td>2024-05-04 13:57:55</td>\n",
       "      <td>Latina Wifey</td>\n",
       "      <td>Latina Wifey: ‎Messages and calls are end-to-e...</td>\n",
       "    </tr>\n",
       "    <tr>\n",
       "      <th>1</th>\n",
       "      <td>2024-05-04 13:57:57</td>\n",
       "      <td>Joppe Montezinos</td>\n",
       "      <td>Joppe Montezinos: In the train omw</td>\n",
       "    </tr>\n",
       "    <tr>\n",
       "      <th>2</th>\n",
       "      <td>2024-05-04 15:01:15</td>\n",
       "      <td>Joppe Montezinos</td>\n",
       "      <td>Joppe Montezinos: I think we will be back at 6</td>\n",
       "    </tr>\n",
       "    <tr>\n",
       "      <th>3</th>\n",
       "      <td>2024-05-04 15:01:29</td>\n",
       "      <td>Joppe Montezinos</td>\n",
       "      <td>Joppe Montezinos: Quinten was late cuz he had ...</td>\n",
       "    </tr>\n",
       "    <tr>\n",
       "      <th>4</th>\n",
       "      <td>2024-05-04 15:13:03</td>\n",
       "      <td>Joppe Montezinos</td>\n",
       "      <td>‎ Joppe Montezinos: ‎audio omitted</td>\n",
       "    </tr>\n",
       "    <tr>\n",
       "      <th>...</th>\n",
       "      <td>...</td>\n",
       "      <td>...</td>\n",
       "      <td>...</td>\n",
       "    </tr>\n",
       "    <tr>\n",
       "      <th>295</th>\n",
       "      <td>2024-05-06 10:10:51</td>\n",
       "      <td>Latina Wifey</td>\n",
       "      <td>Latina Wifey: perfect</td>\n",
       "    </tr>\n",
       "    <tr>\n",
       "      <th>296</th>\n",
       "      <td>2024-05-06 10:10:56</td>\n",
       "      <td>Latina Wifey</td>\n",
       "      <td>Latina Wifey: it will be amazingggg</td>\n",
       "    </tr>\n",
       "    <tr>\n",
       "      <th>297</th>\n",
       "      <td>2024-05-06 10:11:02</td>\n",
       "      <td>Joppe Montezinos</td>\n",
       "      <td>Joppe Montezinos: ❤️</td>\n",
       "    </tr>\n",
       "    <tr>\n",
       "      <th>298</th>\n",
       "      <td>2024-05-06 10:11:10</td>\n",
       "      <td>Latina Wifey</td>\n",
       "      <td>Latina Wifey: I can cook for us ❤️</td>\n",
       "    </tr>\n",
       "    <tr>\n",
       "      <th>299</th>\n",
       "      <td>2024-05-06 10:11:40</td>\n",
       "      <td>Joppe Montezinos</td>\n",
       "      <td>Joppe Montezinos: hahahah yesss</td>\n",
       "    </tr>\n",
       "  </tbody>\n",
       "</table>\n",
       "<p>300 rows × 3 columns</p>\n",
       "</div>"
      ]
     },
     "execution_count": 14,
     "metadata": {},
     "output_type": "execute_result"
    }
   ],
   "execution_count": 14
  },
  {
   "metadata": {
    "ExecuteTime": {
     "end_time": "2024-10-14T20:22:45.458250Z",
     "start_time": "2024-10-14T20:22:45.426304Z"
    }
   },
   "cell_type": "code",
   "source": [
    "\n",
    "\n",
    "# Remove messages with \"sticker omitted\" or \"image omitted\"\n",
    "df = df[~df['message'].str.contains(\"sticker omitted|image omitted\")]\n",
    "\n",
    "df.head(300)"
   ],
   "outputs": [
    {
     "data": {
      "text/plain": [
       "              timestamp            author  \\\n",
       "0   2024-05-04 13:57:55      Latina Wifey   \n",
       "1   2024-05-04 13:57:57  Joppe Montezinos   \n",
       "2   2024-05-04 15:01:15  Joppe Montezinos   \n",
       "3   2024-05-04 15:01:29  Joppe Montezinos   \n",
       "4   2024-05-04 15:13:03  Joppe Montezinos   \n",
       "..                  ...               ...   \n",
       "385 2024-05-06 10:59:09      Latina Wifey   \n",
       "386 2024-05-06 10:59:13      Latina Wifey   \n",
       "387 2024-05-06 10:59:36  Joppe Montezinos   \n",
       "388 2024-05-06 10:59:37  Joppe Montezinos   \n",
       "389 2024-05-06 11:00:23  Joppe Montezinos   \n",
       "\n",
       "                                               message  \n",
       "0    Latina Wifey: ‎Messages and calls are end-to-e...  \n",
       "1                   Joppe Montezinos: In the train omw  \n",
       "2       Joppe Montezinos: I think we will be back at 6  \n",
       "3    Joppe Montezinos: Quinten was late cuz he had ...  \n",
       "4                   ‎ Joppe Montezinos: ‎audio omitted  \n",
       "..                                                 ...  \n",
       "385              Latina Wifey: maybe its in your spam?  \n",
       "386             Latina Wifey: cause it went to my spam  \n",
       "387                       Joppe Montezinos: yes got it  \n",
       "388                           Joppe Montezinos: my bad  \n",
       "389                            Joppe Montezinos: jezus  \n",
       "\n",
       "[300 rows x 3 columns]"
      ],
      "text/html": [
       "<div>\n",
       "<style scoped>\n",
       "    .dataframe tbody tr th:only-of-type {\n",
       "        vertical-align: middle;\n",
       "    }\n",
       "\n",
       "    .dataframe tbody tr th {\n",
       "        vertical-align: top;\n",
       "    }\n",
       "\n",
       "    .dataframe thead th {\n",
       "        text-align: right;\n",
       "    }\n",
       "</style>\n",
       "<table border=\"1\" class=\"dataframe\">\n",
       "  <thead>\n",
       "    <tr style=\"text-align: right;\">\n",
       "      <th></th>\n",
       "      <th>timestamp</th>\n",
       "      <th>author</th>\n",
       "      <th>message</th>\n",
       "    </tr>\n",
       "  </thead>\n",
       "  <tbody>\n",
       "    <tr>\n",
       "      <th>0</th>\n",
       "      <td>2024-05-04 13:57:55</td>\n",
       "      <td>Latina Wifey</td>\n",
       "      <td>Latina Wifey: ‎Messages and calls are end-to-e...</td>\n",
       "    </tr>\n",
       "    <tr>\n",
       "      <th>1</th>\n",
       "      <td>2024-05-04 13:57:57</td>\n",
       "      <td>Joppe Montezinos</td>\n",
       "      <td>Joppe Montezinos: In the train omw</td>\n",
       "    </tr>\n",
       "    <tr>\n",
       "      <th>2</th>\n",
       "      <td>2024-05-04 15:01:15</td>\n",
       "      <td>Joppe Montezinos</td>\n",
       "      <td>Joppe Montezinos: I think we will be back at 6</td>\n",
       "    </tr>\n",
       "    <tr>\n",
       "      <th>3</th>\n",
       "      <td>2024-05-04 15:01:29</td>\n",
       "      <td>Joppe Montezinos</td>\n",
       "      <td>Joppe Montezinos: Quinten was late cuz he had ...</td>\n",
       "    </tr>\n",
       "    <tr>\n",
       "      <th>4</th>\n",
       "      <td>2024-05-04 15:13:03</td>\n",
       "      <td>Joppe Montezinos</td>\n",
       "      <td>‎ Joppe Montezinos: ‎audio omitted</td>\n",
       "    </tr>\n",
       "    <tr>\n",
       "      <th>...</th>\n",
       "      <td>...</td>\n",
       "      <td>...</td>\n",
       "      <td>...</td>\n",
       "    </tr>\n",
       "    <tr>\n",
       "      <th>385</th>\n",
       "      <td>2024-05-06 10:59:09</td>\n",
       "      <td>Latina Wifey</td>\n",
       "      <td>Latina Wifey: maybe its in your spam?</td>\n",
       "    </tr>\n",
       "    <tr>\n",
       "      <th>386</th>\n",
       "      <td>2024-05-06 10:59:13</td>\n",
       "      <td>Latina Wifey</td>\n",
       "      <td>Latina Wifey: cause it went to my spam</td>\n",
       "    </tr>\n",
       "    <tr>\n",
       "      <th>387</th>\n",
       "      <td>2024-05-06 10:59:36</td>\n",
       "      <td>Joppe Montezinos</td>\n",
       "      <td>Joppe Montezinos: yes got it</td>\n",
       "    </tr>\n",
       "    <tr>\n",
       "      <th>388</th>\n",
       "      <td>2024-05-06 10:59:37</td>\n",
       "      <td>Joppe Montezinos</td>\n",
       "      <td>Joppe Montezinos: my bad</td>\n",
       "    </tr>\n",
       "    <tr>\n",
       "      <th>389</th>\n",
       "      <td>2024-05-06 11:00:23</td>\n",
       "      <td>Joppe Montezinos</td>\n",
       "      <td>Joppe Montezinos: jezus</td>\n",
       "    </tr>\n",
       "  </tbody>\n",
       "</table>\n",
       "<p>300 rows × 3 columns</p>\n",
       "</div>"
      ]
     },
     "execution_count": 15,
     "metadata": {},
     "output_type": "execute_result"
    }
   ],
   "execution_count": 15
  },
  {
   "cell_type": "markdown",
   "metadata": {},
   "source": [
    "Check the datatypes. Note the timestamp type!"
   ]
  },
  {
   "cell_type": "code",
   "metadata": {
    "ExecuteTime": {
     "end_time": "2024-10-14T20:22:45.489677Z",
     "start_time": "2024-10-14T20:22:45.486861Z"
    }
   },
   "source": "df.dtypes\n",
   "outputs": [
    {
     "data": {
      "text/plain": [
       "timestamp    datetime64[ns]\n",
       "author               object\n",
       "message              object\n",
       "dtype: object"
      ]
     },
     "execution_count": 16,
     "metadata": {},
     "output_type": "execute_result"
    }
   ],
   "execution_count": 16
  },
  {
   "cell_type": "markdown",
   "metadata": {},
   "source": [
    "Sometimes, author names have a tilde in front of them, allong with some unicode. Let's clean that."
   ]
  },
  {
   "cell_type": "code",
   "metadata": {
    "ExecuteTime": {
     "end_time": "2024-10-14T20:22:45.554642Z",
     "start_time": "2024-10-14T20:22:45.529669Z"
    }
   },
   "source": [
    "import re\n",
    "clean_tilde = r\"^~\\u202f\"\n",
    "df[\"author\"] = df[\"author\"].apply(lambda x: re.sub(clean_tilde, \"\", x))"
   ],
   "outputs": [],
   "execution_count": 17
  },
  {
   "cell_type": "markdown",
   "metadata": {},
   "source": [
    "Let's check how many unique authors we have"
   ]
  },
  {
   "cell_type": "code",
   "metadata": {
    "ExecuteTime": {
     "end_time": "2024-10-14T20:22:45.587995Z",
     "start_time": "2024-10-14T20:22:45.583531Z"
    }
   },
   "source": [
    "len(df.author.unique())"
   ],
   "outputs": [
    {
     "data": {
      "text/plain": [
       "2"
      ]
     },
     "execution_count": 18,
     "metadata": {},
     "output_type": "execute_result"
    }
   ],
   "execution_count": 18
  },
  {
   "cell_type": "markdown",
   "metadata": {},
   "source": [
    "Let's make the authors anonymous"
   ]
  },
  {
   "cell_type": "code",
   "metadata": {
    "ExecuteTime": {
     "end_time": "2024-10-14T20:22:45.627671Z",
     "start_time": "2024-10-14T20:22:45.621795Z"
    }
   },
   "source": [
    "import sys\n",
    "sys.path.append(\"../../src/\")\n",
    "import json\n",
    "from wa_cleaner.humanhasher import humanize\n",
    "\n",
    "\n",
    "authors = df.author.unique()\n",
    "anon = {k:humanize(k) for k in authors}\n",
    "# we save a reference file so we can look up the original author names if we want to\n",
    "reference_file = processed / \"anon_reference.json\"\n",
    "\n",
    "with open(reference_file, \"w\") as f:\n",
    "    # invert the dictionary:\n",
    "    ref = {v:k for k,v in anon.items()}\n",
    "    # sort alphabetically:\n",
    "    ref_sorted = {k:ref[k] for k in sorted(ref.keys())}\n",
    "    # save as json:\n",
    "    json.dump(ref_sorted, f)\n",
    "\n",
    "assert len(anon) == len(authors), \"you lost some authors!\"\n"
   ],
   "outputs": [],
   "execution_count": 19
  },
  {
   "cell_type": "code",
   "metadata": {
    "ExecuteTime": {
     "end_time": "2024-10-14T20:22:45.662211Z",
     "start_time": "2024-10-14T20:22:45.657046Z"
    }
   },
   "source": [
    "df[\"anon_author\"] = df.author.map(anon)\n",
    "df.head()"
   ],
   "outputs": [
    {
     "data": {
      "text/plain": [
       "            timestamp            author  \\\n",
       "0 2024-05-04 13:57:55      Latina Wifey   \n",
       "1 2024-05-04 13:57:57  Joppe Montezinos   \n",
       "2 2024-05-04 15:01:15  Joppe Montezinos   \n",
       "3 2024-05-04 15:01:29  Joppe Montezinos   \n",
       "4 2024-05-04 15:13:03  Joppe Montezinos   \n",
       "\n",
       "                                             message           anon_author  \n",
       "0  Latina Wifey: ‎Messages and calls are end-to-e...      giggling-termite  \n",
       "1                 Joppe Montezinos: In the train omw  cheerful-nightingale  \n",
       "2     Joppe Montezinos: I think we will be back at 6  cheerful-nightingale  \n",
       "3  Joppe Montezinos: Quinten was late cuz he had ...  cheerful-nightingale  \n",
       "4                 ‎ Joppe Montezinos: ‎audio omitted  cheerful-nightingale  "
      ],
      "text/html": [
       "<div>\n",
       "<style scoped>\n",
       "    .dataframe tbody tr th:only-of-type {\n",
       "        vertical-align: middle;\n",
       "    }\n",
       "\n",
       "    .dataframe tbody tr th {\n",
       "        vertical-align: top;\n",
       "    }\n",
       "\n",
       "    .dataframe thead th {\n",
       "        text-align: right;\n",
       "    }\n",
       "</style>\n",
       "<table border=\"1\" class=\"dataframe\">\n",
       "  <thead>\n",
       "    <tr style=\"text-align: right;\">\n",
       "      <th></th>\n",
       "      <th>timestamp</th>\n",
       "      <th>author</th>\n",
       "      <th>message</th>\n",
       "      <th>anon_author</th>\n",
       "    </tr>\n",
       "  </thead>\n",
       "  <tbody>\n",
       "    <tr>\n",
       "      <th>0</th>\n",
       "      <td>2024-05-04 13:57:55</td>\n",
       "      <td>Latina Wifey</td>\n",
       "      <td>Latina Wifey: ‎Messages and calls are end-to-e...</td>\n",
       "      <td>giggling-termite</td>\n",
       "    </tr>\n",
       "    <tr>\n",
       "      <th>1</th>\n",
       "      <td>2024-05-04 13:57:57</td>\n",
       "      <td>Joppe Montezinos</td>\n",
       "      <td>Joppe Montezinos: In the train omw</td>\n",
       "      <td>cheerful-nightingale</td>\n",
       "    </tr>\n",
       "    <tr>\n",
       "      <th>2</th>\n",
       "      <td>2024-05-04 15:01:15</td>\n",
       "      <td>Joppe Montezinos</td>\n",
       "      <td>Joppe Montezinos: I think we will be back at 6</td>\n",
       "      <td>cheerful-nightingale</td>\n",
       "    </tr>\n",
       "    <tr>\n",
       "      <th>3</th>\n",
       "      <td>2024-05-04 15:01:29</td>\n",
       "      <td>Joppe Montezinos</td>\n",
       "      <td>Joppe Montezinos: Quinten was late cuz he had ...</td>\n",
       "      <td>cheerful-nightingale</td>\n",
       "    </tr>\n",
       "    <tr>\n",
       "      <th>4</th>\n",
       "      <td>2024-05-04 15:13:03</td>\n",
       "      <td>Joppe Montezinos</td>\n",
       "      <td>‎ Joppe Montezinos: ‎audio omitted</td>\n",
       "      <td>cheerful-nightingale</td>\n",
       "    </tr>\n",
       "  </tbody>\n",
       "</table>\n",
       "</div>"
      ]
     },
     "execution_count": 20,
     "metadata": {},
     "output_type": "execute_result"
    }
   ],
   "execution_count": 20
  },
  {
   "cell_type": "markdown",
   "metadata": {},
   "source": [
    "We can now drop the original author column"
   ]
  },
  {
   "cell_type": "code",
   "metadata": {
    "ExecuteTime": {
     "end_time": "2024-10-14T20:22:45.685095Z",
     "start_time": "2024-10-14T20:22:45.681925Z"
    }
   },
   "source": [
    "df.drop(columns=[\"author\"], inplace=True)"
   ],
   "outputs": [],
   "execution_count": 21
  },
  {
   "cell_type": "markdown",
   "metadata": {},
   "source": [
    "Check if it's gone"
   ]
  },
  {
   "cell_type": "code",
   "metadata": {
    "ExecuteTime": {
     "end_time": "2024-10-14T20:22:45.722379Z",
     "start_time": "2024-10-14T20:22:45.718864Z"
    }
   },
   "source": [
    "df.head()"
   ],
   "outputs": [
    {
     "data": {
      "text/plain": [
       "            timestamp                                            message  \\\n",
       "0 2024-05-04 13:57:55  Latina Wifey: ‎Messages and calls are end-to-e...   \n",
       "1 2024-05-04 13:57:57                 Joppe Montezinos: In the train omw   \n",
       "2 2024-05-04 15:01:15     Joppe Montezinos: I think we will be back at 6   \n",
       "3 2024-05-04 15:01:29  Joppe Montezinos: Quinten was late cuz he had ...   \n",
       "4 2024-05-04 15:13:03                 ‎ Joppe Montezinos: ‎audio omitted   \n",
       "\n",
       "            anon_author  \n",
       "0      giggling-termite  \n",
       "1  cheerful-nightingale  \n",
       "2  cheerful-nightingale  \n",
       "3  cheerful-nightingale  \n",
       "4  cheerful-nightingale  "
      ],
      "text/html": [
       "<div>\n",
       "<style scoped>\n",
       "    .dataframe tbody tr th:only-of-type {\n",
       "        vertical-align: middle;\n",
       "    }\n",
       "\n",
       "    .dataframe tbody tr th {\n",
       "        vertical-align: top;\n",
       "    }\n",
       "\n",
       "    .dataframe thead th {\n",
       "        text-align: right;\n",
       "    }\n",
       "</style>\n",
       "<table border=\"1\" class=\"dataframe\">\n",
       "  <thead>\n",
       "    <tr style=\"text-align: right;\">\n",
       "      <th></th>\n",
       "      <th>timestamp</th>\n",
       "      <th>message</th>\n",
       "      <th>anon_author</th>\n",
       "    </tr>\n",
       "  </thead>\n",
       "  <tbody>\n",
       "    <tr>\n",
       "      <th>0</th>\n",
       "      <td>2024-05-04 13:57:55</td>\n",
       "      <td>Latina Wifey: ‎Messages and calls are end-to-e...</td>\n",
       "      <td>giggling-termite</td>\n",
       "    </tr>\n",
       "    <tr>\n",
       "      <th>1</th>\n",
       "      <td>2024-05-04 13:57:57</td>\n",
       "      <td>Joppe Montezinos: In the train omw</td>\n",
       "      <td>cheerful-nightingale</td>\n",
       "    </tr>\n",
       "    <tr>\n",
       "      <th>2</th>\n",
       "      <td>2024-05-04 15:01:15</td>\n",
       "      <td>Joppe Montezinos: I think we will be back at 6</td>\n",
       "      <td>cheerful-nightingale</td>\n",
       "    </tr>\n",
       "    <tr>\n",
       "      <th>3</th>\n",
       "      <td>2024-05-04 15:01:29</td>\n",
       "      <td>Joppe Montezinos: Quinten was late cuz he had ...</td>\n",
       "      <td>cheerful-nightingale</td>\n",
       "    </tr>\n",
       "    <tr>\n",
       "      <th>4</th>\n",
       "      <td>2024-05-04 15:13:03</td>\n",
       "      <td>‎ Joppe Montezinos: ‎audio omitted</td>\n",
       "      <td>cheerful-nightingale</td>\n",
       "    </tr>\n",
       "  </tbody>\n",
       "</table>\n",
       "</div>"
      ]
     },
     "execution_count": 22,
     "metadata": {},
     "output_type": "execute_result"
    }
   ],
   "execution_count": 22
  },
  {
   "cell_type": "markdown",
   "metadata": {},
   "source": [
    "And let's rename the column"
   ]
  },
  {
   "cell_type": "code",
   "metadata": {
    "ExecuteTime": {
     "end_time": "2024-10-14T20:22:45.775752Z",
     "start_time": "2024-10-14T20:22:45.773591Z"
    }
   },
   "source": [
    "df.rename(columns={\"anon_author\":\"author\"}, inplace=True)"
   ],
   "outputs": [],
   "execution_count": 23
  },
  {
   "cell_type": "code",
   "metadata": {
    "ExecuteTime": {
     "end_time": "2024-10-14T20:22:45.818503Z",
     "start_time": "2024-10-14T20:22:45.814610Z"
    }
   },
   "source": [
    "df.head()"
   ],
   "outputs": [
    {
     "data": {
      "text/plain": [
       "            timestamp                                            message  \\\n",
       "0 2024-05-04 13:57:55  Latina Wifey: ‎Messages and calls are end-to-e...   \n",
       "1 2024-05-04 13:57:57                 Joppe Montezinos: In the train omw   \n",
       "2 2024-05-04 15:01:15     Joppe Montezinos: I think we will be back at 6   \n",
       "3 2024-05-04 15:01:29  Joppe Montezinos: Quinten was late cuz he had ...   \n",
       "4 2024-05-04 15:13:03                 ‎ Joppe Montezinos: ‎audio omitted   \n",
       "\n",
       "                 author  \n",
       "0      giggling-termite  \n",
       "1  cheerful-nightingale  \n",
       "2  cheerful-nightingale  \n",
       "3  cheerful-nightingale  \n",
       "4  cheerful-nightingale  "
      ],
      "text/html": [
       "<div>\n",
       "<style scoped>\n",
       "    .dataframe tbody tr th:only-of-type {\n",
       "        vertical-align: middle;\n",
       "    }\n",
       "\n",
       "    .dataframe tbody tr th {\n",
       "        vertical-align: top;\n",
       "    }\n",
       "\n",
       "    .dataframe thead th {\n",
       "        text-align: right;\n",
       "    }\n",
       "</style>\n",
       "<table border=\"1\" class=\"dataframe\">\n",
       "  <thead>\n",
       "    <tr style=\"text-align: right;\">\n",
       "      <th></th>\n",
       "      <th>timestamp</th>\n",
       "      <th>message</th>\n",
       "      <th>author</th>\n",
       "    </tr>\n",
       "  </thead>\n",
       "  <tbody>\n",
       "    <tr>\n",
       "      <th>0</th>\n",
       "      <td>2024-05-04 13:57:55</td>\n",
       "      <td>Latina Wifey: ‎Messages and calls are end-to-e...</td>\n",
       "      <td>giggling-termite</td>\n",
       "    </tr>\n",
       "    <tr>\n",
       "      <th>1</th>\n",
       "      <td>2024-05-04 13:57:57</td>\n",
       "      <td>Joppe Montezinos: In the train omw</td>\n",
       "      <td>cheerful-nightingale</td>\n",
       "    </tr>\n",
       "    <tr>\n",
       "      <th>2</th>\n",
       "      <td>2024-05-04 15:01:15</td>\n",
       "      <td>Joppe Montezinos: I think we will be back at 6</td>\n",
       "      <td>cheerful-nightingale</td>\n",
       "    </tr>\n",
       "    <tr>\n",
       "      <th>3</th>\n",
       "      <td>2024-05-04 15:01:29</td>\n",
       "      <td>Joppe Montezinos: Quinten was late cuz he had ...</td>\n",
       "      <td>cheerful-nightingale</td>\n",
       "    </tr>\n",
       "    <tr>\n",
       "      <th>4</th>\n",
       "      <td>2024-05-04 15:13:03</td>\n",
       "      <td>‎ Joppe Montezinos: ‎audio omitted</td>\n",
       "      <td>cheerful-nightingale</td>\n",
       "    </tr>\n",
       "  </tbody>\n",
       "</table>\n",
       "</div>"
      ]
     },
     "execution_count": 24,
     "metadata": {},
     "output_type": "execute_result"
    }
   ],
   "execution_count": 24
  },
  {
   "cell_type": "markdown",
   "metadata": {},
   "source": [
    "In my case, the first line is a header, saying messages are encrypted. Let's remove that. Your data might be different, so double check if you also want to remove the first line!"
   ]
  },
  {
   "cell_type": "code",
   "metadata": {
    "ExecuteTime": {
     "end_time": "2024-10-14T20:22:45.874097Z",
     "start_time": "2024-10-14T20:22:45.869753Z"
    }
   },
   "source": [
    "df = df.drop(index=[0])"
   ],
   "outputs": [],
   "execution_count": 25
  },
  {
   "cell_type": "markdown",
   "metadata": {},
   "source": [
    "let's check:"
   ]
  },
  {
   "cell_type": "code",
   "metadata": {
    "ExecuteTime": {
     "end_time": "2024-10-14T20:22:45.912448Z",
     "start_time": "2024-10-14T20:22:45.908712Z"
    }
   },
   "source": [
    "df.head()"
   ],
   "outputs": [
    {
     "data": {
      "text/plain": [
       "            timestamp                                            message  \\\n",
       "1 2024-05-04 13:57:57                 Joppe Montezinos: In the train omw   \n",
       "2 2024-05-04 15:01:15     Joppe Montezinos: I think we will be back at 6   \n",
       "3 2024-05-04 15:01:29  Joppe Montezinos: Quinten was late cuz he had ...   \n",
       "4 2024-05-04 15:13:03                 ‎ Joppe Montezinos: ‎audio omitted   \n",
       "6 2024-05-04 15:24:33                   Latina Wifey: good morning cutie   \n",
       "\n",
       "                 author  \n",
       "1  cheerful-nightingale  \n",
       "2  cheerful-nightingale  \n",
       "3  cheerful-nightingale  \n",
       "4  cheerful-nightingale  \n",
       "6      giggling-termite  "
      ],
      "text/html": [
       "<div>\n",
       "<style scoped>\n",
       "    .dataframe tbody tr th:only-of-type {\n",
       "        vertical-align: middle;\n",
       "    }\n",
       "\n",
       "    .dataframe tbody tr th {\n",
       "        vertical-align: top;\n",
       "    }\n",
       "\n",
       "    .dataframe thead th {\n",
       "        text-align: right;\n",
       "    }\n",
       "</style>\n",
       "<table border=\"1\" class=\"dataframe\">\n",
       "  <thead>\n",
       "    <tr style=\"text-align: right;\">\n",
       "      <th></th>\n",
       "      <th>timestamp</th>\n",
       "      <th>message</th>\n",
       "      <th>author</th>\n",
       "    </tr>\n",
       "  </thead>\n",
       "  <tbody>\n",
       "    <tr>\n",
       "      <th>1</th>\n",
       "      <td>2024-05-04 13:57:57</td>\n",
       "      <td>Joppe Montezinos: In the train omw</td>\n",
       "      <td>cheerful-nightingale</td>\n",
       "    </tr>\n",
       "    <tr>\n",
       "      <th>2</th>\n",
       "      <td>2024-05-04 15:01:15</td>\n",
       "      <td>Joppe Montezinos: I think we will be back at 6</td>\n",
       "      <td>cheerful-nightingale</td>\n",
       "    </tr>\n",
       "    <tr>\n",
       "      <th>3</th>\n",
       "      <td>2024-05-04 15:01:29</td>\n",
       "      <td>Joppe Montezinos: Quinten was late cuz he had ...</td>\n",
       "      <td>cheerful-nightingale</td>\n",
       "    </tr>\n",
       "    <tr>\n",
       "      <th>4</th>\n",
       "      <td>2024-05-04 15:13:03</td>\n",
       "      <td>‎ Joppe Montezinos: ‎audio omitted</td>\n",
       "      <td>cheerful-nightingale</td>\n",
       "    </tr>\n",
       "    <tr>\n",
       "      <th>6</th>\n",
       "      <td>2024-05-04 15:24:33</td>\n",
       "      <td>Latina Wifey: good morning cutie</td>\n",
       "      <td>giggling-termite</td>\n",
       "    </tr>\n",
       "  </tbody>\n",
       "</table>\n",
       "</div>"
      ]
     },
     "execution_count": 26,
     "metadata": {},
     "output_type": "execute_result"
    }
   ],
   "execution_count": 26
  },
  {
   "cell_type": "markdown",
   "metadata": {},
   "source": [
    "Let's find emojis in the text and add that as a feature."
   ]
  },
  {
   "metadata": {
    "ExecuteTime": {
     "end_time": "2024-10-14T20:22:46.153134Z",
     "start_time": "2024-10-14T20:22:45.958780Z"
    }
   },
   "cell_type": "code",
   "source": [
    "import re\n",
    "import pandas as pd\n",
    "\n",
    "def clean_message(row):\n",
    "    # Extract the message\n",
    "    message = row['message']\n",
    "    \n",
    "    # Define the pattern to match name and colon at the start of the message\n",
    "    pattern = r'^([^:]+):\\s*'\n",
    "    \n",
    "    # Use re.sub to replace the pattern if it's at the start of the message\n",
    "    cleaned_message = re.sub(pattern, '', message)\n",
    "    \n",
    "    return cleaned_message\n",
    "\n",
    "\n",
    "# Apply the cleaning function to the 'message' column\n",
    "df['message'] = df.apply(clean_message, axis=1)\n",
    "\n",
    "# Save the result\n",
    "print(df.head())\n",
    "\n",
    "print(\"Cleaning completed\")"
   ],
   "outputs": [
    {
     "name": "stdout",
     "output_type": "stream",
     "text": [
      "            timestamp                                            message  \\\n",
      "1 2024-05-04 13:57:57                                   In the train omw   \n",
      "2 2024-05-04 15:01:15                       I think we will be back at 6   \n",
      "3 2024-05-04 15:01:29  Quinten was late cuz he had to stop by someone...   \n",
      "4 2024-05-04 15:13:03                                     ‎audio omitted   \n",
      "6 2024-05-04 15:24:33                                 good morning cutie   \n",
      "\n",
      "                 author  \n",
      "1  cheerful-nightingale  \n",
      "2  cheerful-nightingale  \n",
      "3  cheerful-nightingale  \n",
      "4  cheerful-nightingale  \n",
      "6      giggling-termite  \n",
      "Cleaning completed\n"
     ]
    }
   ],
   "execution_count": 27
  },
  {
   "cell_type": "code",
   "metadata": {
    "ExecuteTime": {
     "end_time": "2024-10-14T20:22:46.196015Z",
     "start_time": "2024-10-14T20:22:46.168259Z"
    }
   },
   "source": [
    "import re\n",
    "\n",
    "emoji_pattern = re.compile(\"[\"\n",
    "                            u\"\\U0001F600-\\U0001F64F\"  # emoticons\n",
    "                            u\"\\U0001F300-\\U0001F5FF\"  # symbols & pictographs\n",
    "                            u\"\\U0001F680-\\U0001F6FF\"  # transport & map symbols\n",
    "                            u\"\\U0001F1E0-\\U0001F1FF\"  # flags (iOS)\n",
    "                            u\"\\U00002702-\\U000027B0\"  # Dingbats\n",
    "                            u\"\\U000024C2-\\U0001F251\"\n",
    "                            \"]+\", flags=re.UNICODE)\n",
    "\n",
    "def has_emoji(text):\n",
    "    return bool(emoji_pattern.search(text))\n",
    "\n",
    "df['has_emoji'] = df['message'].apply(has_emoji)"
   ],
   "outputs": [],
   "execution_count": 28
  },
  {
   "metadata": {
    "ExecuteTime": {
     "end_time": "2024-10-14T20:22:46.224446Z",
     "start_time": "2024-10-14T20:22:46.222067Z"
    }
   },
   "cell_type": "code",
   "source": "print(df.head())",
   "outputs": [
    {
     "name": "stdout",
     "output_type": "stream",
     "text": [
      "            timestamp                                            message  \\\n",
      "1 2024-05-04 13:57:57                                   In the train omw   \n",
      "2 2024-05-04 15:01:15                       I think we will be back at 6   \n",
      "3 2024-05-04 15:01:29  Quinten was late cuz he had to stop by someone...   \n",
      "4 2024-05-04 15:13:03                                     ‎audio omitted   \n",
      "6 2024-05-04 15:24:33                                 good morning cutie   \n",
      "\n",
      "                 author  has_emoji  \n",
      "1  cheerful-nightingale      False  \n",
      "2  cheerful-nightingale      False  \n",
      "3  cheerful-nightingale      False  \n",
      "4  cheerful-nightingale      False  \n",
      "6      giggling-termite      False  \n"
     ]
    }
   ],
   "execution_count": 29
  },
  {
   "cell_type": "markdown",
   "metadata": {},
   "source": [
    "Let's create a timestamp for a new, unique, filename."
   ]
  },
  {
   "cell_type": "code",
   "metadata": {
    "ExecuteTime": {
     "end_time": "2024-10-14T20:22:46.233575Z",
     "start_time": "2024-10-14T20:22:46.231940Z"
    }
   },
   "source": [
    "now = datetime.now().strftime(\"%Y%m%d-%H%M%S\")\n",
    "output = processed / f\"whatsapp-{now}.csv\""
   ],
   "outputs": [],
   "execution_count": 30
  },
  {
   "cell_type": "markdown",
   "metadata": {},
   "source": [
    "Let's save the file both as a csv and as a parquet file.\n",
    "Parquet has some advantages:\n",
    "- its about 100x faster to read and write\n",
    "- datatypes are preserved (eg the timestamp type). You will loose this in a csv file.\n",
    "- file size is much smaller\n",
    "\n",
    "The advantage of csv is that you can easily peak at the data in a text editor."
   ]
  },
  {
   "cell_type": "code",
   "metadata": {
    "ExecuteTime": {
     "end_time": "2024-10-14T20:22:46.400311Z",
     "start_time": "2024-10-14T20:22:46.241853Z"
    }
   },
   "source": [
    "df.to_csv(output, index=False)\n",
    "df.to_parquet(output.with_suffix(\".parq\"), index=False)"
   ],
   "outputs": [],
   "execution_count": 31
  },
  {
   "cell_type": "markdown",
   "metadata": {},
   "source": [
    "Now, go to `config.toml` and change the name by \"current\" to the parquet file you just created.\n",
    "This makes it easier to use the same file everywhere, without the need to continuously retype the name if you change it."
   ]
  }
 ],
 "metadata": {
  "kernelspec": {
   "display_name": ".venv",
   "language": "python",
   "name": "python3"
  },
  "language_info": {
   "codemirror_mode": {
    "name": "ipython",
    "version": 3
   },
   "file_extension": ".py",
   "mimetype": "text/x-python",
   "name": "python",
   "nbconvert_exporter": "python",
   "pygments_lexer": "ipython3",
   "version": "3.11.9"
  }
 },
 "nbformat": 4,
 "nbformat_minor": 2
}
