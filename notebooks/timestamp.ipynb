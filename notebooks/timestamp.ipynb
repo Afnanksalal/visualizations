{
 "cells": [
  {
   "cell_type": "markdown",
   "metadata": {},
   "source": [
    "# WhatsApp Message Frequency Analysis\n",
    "\n",
    "This notebook analyzes WhatsApp chat data to visualize message frequency by hour of the day."
   ]
  },
  {
   "cell_type": "markdown",
   "metadata": {},
   "source": [
    "## Import required libraries"
   ]
  },
  {
   "cell_type": "code",
   "execution_count": null,
   "metadata": {},
   "outputs": [],
   "source": [
    "import pandas as pd\n",
    "import seaborn as sns\n",
    "import matplotlib.pyplot as plt"
   ]
  },
  {
   "cell_type": "markdown",
   "metadata": {},
   "source": [
    "## Define the visualization function"
   ]
  },
  {
   "cell_type": "code",
   "execution_count": null,
   "metadata": {},
   "outputs": [],
   "source": [
    "def visualize_hourly_activity(df, output_path='whatsapp_hourly_activity.png'):\n",
    "    \"\"\"\n",
    "    Create a visualization of WhatsApp message frequency by hour of the day.\n",
    "\n",
    "    Parameters:\n",
    "    df (pandas.DataFrame): DataFrame containing the WhatsApp chat data\n",
    "    output_path (str): Path to save the output image\n",
    "\n",
    "    Returns:\n",
    "    None\n",
    "    \"\"\"\n",
    "    # Convert timestamp to datetime and extract hour\n",
    "    df['timestamp'] = pd.to_datetime(df['timestamp'])\n",
    "    df['hour'] = df['timestamp'].dt.hour\n",
    "\n",
    "    # Count messages per hour\n",
    "    hourly_counts = df['hour'].value_counts().sort_index().reset_index()\n",
    "    hourly_counts.columns = ['hour', 'count']\n",
    "\n",
    "    # Create the plot\n",
    "    plt.figure(figsize=(14, 8))\n",
    "    sns.barplot(x='hour', y='count', data=hourly_counts, color='#3498db')\n",
    "\n",
    "    # Customize the plot\n",
    "    plt.title('WhatsApp Message Frequency by Hour of Day', fontsize=20, pad=20)\n",
    "    plt.xlabel('Hour of Day (24-hour format)', fontsize=14, labelpad=10)\n",
    "    plt.ylabel('Number of Messages', fontsize=14, labelpad=10)\n",
    "    plt.xticks(range(0, 24), fontsize=12)\n",
    "    plt.yticks(fontsize=12)\n",
    "\n",
    "    # Add value labels on top of each bar\n",
    "    for i, v in enumerate(hourly_counts['count']):\n",
    "        plt.text(i, v + 0.5, str(v), ha='center', va='bottom', fontsize=10)\n",
    "\n",
    "    # Add grid lines\n",
    "    plt.grid(axis='y', linestyle='--', alpha=0.7)\n",
    "\n",
    "    # Add time period information\n",
    "    plt.text(0.5, -0.15,\n",
    "             f'Time period: {df[\"timestamp\"].min().strftime(\"%Y-%m-%d\")} to {df[\"timestamp\"].max().strftime(\"%Y-%m-%d\")}',\n",
    "             ha='center', va='center', transform=plt.gca().transAxes, fontsize=12, alpha=0.7)\n",
    "\n",
    "    # Highlight peak hour\n",
    "    peak_hour = hourly_counts.loc[hourly_counts['count'].idxmax(), 'hour']\n",
    "    plt.axvline(x=peak_hour, color='#e74c3c', linestyle='--', linewidth=2)\n",
    "    plt.text(peak_hour, plt.ylim()[1], f'Peak Hour: {peak_hour:02d}:00',\n",
    "             ha='center', va='bottom', color='#e74c3c', fontsize=12, fontweight='bold')\n",
    "\n",
    "    # Save the plot\n",
    "    plt.tight_layout()\n",
    "    plt.savefig(output_path, dpi=300, bbox_inches='tight')\n",
    "    plt.close()\n",
    "\n",
    "    print(f\"Visualization saved as '{output_path}'\")"
   ]
  },
  {
   "cell_type": "markdown",
   "metadata": {},
   "source": [
    "## Load and prepare the data\n",
    "\n",
    "In this section, we'll load the WhatsApp chat data. Make sure you have a CSV file with at least two columns: 'timestamp' and 'message'."
   ]
  },
  {
   "cell_type": "code",
   "execution_count": null,
   "metadata": {},
   "outputs": [],
   "source": [
    "# Load your WhatsApp chat data\n",
    "# Replace 'your_data.csv' with the actual path to your CSV file\n",
    "df = pd.read_csv('your_data.csv')\n",
    "\n",
    "# Display the first few rows of the data\n",
    "print(df.head())\n",
    "\n",
    "# Display basic information about the dataset\n",
    "print(df.info())"
   ]
  },
  {
   "cell_type": "markdown",
   "metadata": {},
   "source": [
    "## Visualize the hourly activity"
   ]
  },
  {
   "cell_type": "code",
   "execution_count": null,
   "metadata": {},
   "outputs": [],
   "source": [
    "# Call the function to create and save the visualization\n",
    "visualize_hourly_activity(df, 'whatsapp_hourly_activity.png')\n",
    "\n",
    "# Display the image in the notebook\n",
    "from IPython.display import Image\n",
    "Image(filename='whatsapp_hourly_activity.png')"
   ]
  },
  {
   "cell_type": "markdown",
   "metadata": {},
   "source": [
    "## Analyze the results\n",
    "\n",
    "Now that we have visualized the hourly activity, let's analyze the results:\n",
    "\n",
    "1. What is the peak hour for message activity?\n",
    "2. Are there any noticeable patterns throughout the day?\n",
    "3. How does the activity change between day and night hours?\n",
    "4. Are there any unexpected spikes or dips in activity?\n",
    "\n",
    "You can add your observations and insights here based on the generated visualization."
   ]
  }
 ],
 "metadata": {
  "kernelspec": {
   "display_name": "Python 3",
   "language": "python",
   "name": "python3"
  },
  "language_info": {
   "codemirror_mode": {
    "name": "ipython",
    "version": 3
   },
   "file_extension": ".py",
   "mimetype": "text/x-python",
   "name": "python",
   "nbconvert_exporter": "python",
   "pygments_lexer": "ipython3",
   "version": "3.8.8"
  }
 },
 "nbformat": 4,
 "nbformat_minor": 4
}
